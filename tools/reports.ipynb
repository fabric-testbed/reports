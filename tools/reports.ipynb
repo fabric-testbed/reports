{
 "cells": [
  {
   "cell_type": "markdown",
   "id": "3b6605cd-5fc4-4c33-a525-1bb275978188",
   "metadata": {},
   "source": [
    "https://uis.fabric-testbed.net/ui/\n",
    "\n",
    "https://uis.fabric-testbed.net/ui/#/people/people_uuid_get\n",
    "\n",
    "ssh -i ~/work/fabric_config/pruth_fabric_rsa  -L 2001:localhost:9200  -F ~/work/fabric_config/ssh_config pruth@mfelk-p.fabric-testbed.net"
   ]
  },
  {
   "cell_type": "code",
   "execution_count": null,
   "id": "45160bd4",
   "metadata": {},
   "outputs": [],
   "source": [
    "from reports_api import ReportsApi\n",
    "from datetime import datetime, timezone\n",
    "import json\n",
    "import pandas as pd\n",
    "import matplotlib.pyplot as plt\n",
    "from dateutil.relativedelta import relativedelta\n",
    "\n",
    "api =  ReportsApi(base_url=\"https://reports.fabric-testbed.net:8443/reports\", token_file=\"/Users/kthare10/work/id_token_prod.json\")\n",
    "#api =  ReportsApi(base_url=\"http://localhost:8080/reports\", token_file=\"/Users/kthare10/work/id_token_prod.json\")\n",
    "\n",
    "query_start=None\n",
    "\n",
    "query_end = datetime.now(timezone.utc)\n",
    "query_end = query_end.isoformat(timespec='milliseconds')"
   ]
  },
  {
   "cell_type": "markdown",
   "id": "20fb5c56",
   "metadata": {},
   "source": [
    "## Query Projects"
   ]
  },
  {
   "cell_type": "code",
   "execution_count": null,
   "id": "40f4cff3",
   "metadata": {},
   "outputs": [],
   "source": [
    "print(\"Query All projects\")\n",
    "projects = api.query_projects(fetch_all=False)\n",
    "print(f\"Total projects: {projects.get('total')}\")\n",
    "print(json.dumps(projects.get(\"data\")[0], indent=4))"
   ]
  },
  {
   "cell_type": "code",
   "execution_count": null,
   "id": "dbd81b89",
   "metadata": {},
   "outputs": [],
   "source": [
    "print(\"Query All projects in a time range\")\n",
    "projects = api.query_projects(start_time=query_start, end_time=query_end, fetch_all=False)\n",
    "print(f\"Total projects: {projects.get('total')}\")\n",
    "print(json.dumps(projects.get(\"data\")[0], indent=4))"
   ]
  },
  {
   "cell_type": "code",
   "execution_count": null,
   "id": "f0c4d070",
   "metadata": {},
   "outputs": [],
   "source": [
    "print(\"Query All projects using SmartNIC in a time range\")\n",
    "component_type=\"SmartNIC\"\n",
    "projects = api.query_projects(start_time=query_start, end_time=query_end, component_type=component_type, fetch_all=False)\n",
    "print(f\"Total projects: {projects.get('total')}\")\n",
    "print(json.dumps(projects.get(\"data\")[0], indent=4))"
   ]
  },
  {
   "cell_type": "code",
   "execution_count": null,
   "id": "a6776953",
   "metadata": {},
   "outputs": [],
   "source": [
    "\n",
    "print(\"Query All projects using SmartNIC and ConnectX_5 in a time range\")\n",
    "component_type=\"SmartNIC\"\n",
    "component_model=\"ConnectX-5\"\n",
    "projects = api.query_projects(start_time=query_start, end_time=query_end, component_type=component_type, component_model=component_model, fetch_all=False)\n",
    "print(f\"Total projects: {projects.get('total')}\")\n",
    "print(json.dumps(projects.get(\"data\")[0], indent=4))"
   ]
  },
  {
   "cell_type": "code",
   "execution_count": null,
   "id": "67e4149f",
   "metadata": {},
   "outputs": [],
   "source": [
    "print(\"Query project using SmartNIC and ConnectX_5 in a time range for a specific project\")\n",
    "projects = api.query_projects(start_time=query_start, end_time=query_end, fetch_all=False, project_id=\"990d8a8b-7e50-4d13-a3be-0f133ffa8653\")\n",
    "print(f\"Total projects: {projects.get('total')}\")\n",
    "print(json.dumps(projects.get(\"data\")[0], indent=4))"
   ]
  },
  {
   "cell_type": "markdown",
   "id": "b92bec03",
   "metadata": {},
   "source": [
    "## Query Users"
   ]
  },
  {
   "cell_type": "code",
   "execution_count": null,
   "id": "0fd309ae",
   "metadata": {},
   "outputs": [],
   "source": [
    "print(\"Query All users\")\n",
    "users = api.query_users(fetch_all=False)\n",
    "print(f\"Total users: {users.get('total')}\")\n",
    "print(json.dumps(users.get(\"data\")[0], indent=4))"
   ]
  },
  {
   "cell_type": "code",
   "execution_count": null,
   "id": "38afb1b1",
   "metadata": {},
   "outputs": [],
   "source": [
    "print(\"Query All users in a time range\")\n",
    "users = api.query_users(start_time=query_start, end_time=query_end, fetch_all=False)\n",
    "print(f\"Total users: {users.get('total')}\")\n",
    "print(json.dumps(users.get(\"data\")[0], indent=4))"
   ]
  },
  {
   "cell_type": "code",
   "execution_count": null,
   "id": "90badb8f",
   "metadata": {},
   "outputs": [],
   "source": [
    "print(\"Query All users using SmartNIC in a time range\")\n",
    "component_type=\"SmartNIC\"\n",
    "users = api.query_users(start_time=query_start, end_time=query_end, component_type=component_type, fetch_all=False)\n",
    "print(f\"Total users: {users.get('total')}\")\n",
    "print(json.dumps(users.get(\"data\")[0], indent=4))"
   ]
  },
  {
   "cell_type": "code",
   "execution_count": null,
   "id": "5a6e6a71",
   "metadata": {},
   "outputs": [],
   "source": [
    "\n",
    "print(\"Query All users using SmartNIC and ConnectX_5 in a time range\")\n",
    "component_type=\"SmartNIC\"\n",
    "component_model=\"ConnectX-5\"\n",
    "users = api.query_users(start_time=query_start, end_time=query_end, component_type=component_type, component_model=component_model, fetch_all=False)\n",
    "print(f\"Total users: {users.get('total')}\")\n",
    "print(json.dumps(users.get(\"data\")[0], indent=4))"
   ]
  },
  {
   "cell_type": "code",
   "execution_count": null,
   "id": "c546511a",
   "metadata": {},
   "outputs": [],
   "source": [
    "print(\"Query All users using SmartNIC and ConnectX_5 in a time range for a specific project\")\n",
    "users = api.query_users(start_time=query_start, end_time=query_end, fetch_all=False, project_id=\"990d8a8b-7e50-4d13-a3be-0f133ffa8653\")\n",
    "print(f\"Total users: {users.get('total')}\")\n",
    "print(json.dumps(users.get(\"data\")[0], indent=4))"
   ]
  },
  {
   "cell_type": "markdown",
   "id": "09bca2a2",
   "metadata": {},
   "source": [
    "## Query Slices"
   ]
  },
  {
   "cell_type": "code",
   "execution_count": null,
   "id": "9d413b0a",
   "metadata": {},
   "outputs": [],
   "source": [
    "print(\"Query All slices\")\n",
    "slices = api.query_slices(fetch_all=False)\n",
    "print(f\"Total slices: {slices.get('total')}\")\n",
    "print(json.dumps(slices.get(\"data\")[0], indent=4))"
   ]
  },
  {
   "cell_type": "code",
   "execution_count": null,
   "id": "538d9943",
   "metadata": {},
   "outputs": [],
   "source": [
    "print(\"Query All slices in a time range\")\n",
    "slices = api.query_slices(start_time=query_start, end_time=query_end, fetch_all=False)\n",
    "print(f\"Total slices: {slices.get('total')}\")\n",
    "print(json.dumps(slices.get(\"data\")[0], indent=4))"
   ]
  },
  {
   "cell_type": "code",
   "execution_count": null,
   "id": "43e353a0",
   "metadata": {},
   "outputs": [],
   "source": [
    "print(\"Query All slices using SmartNIC in a time range\")\n",
    "component_type=\"SmartNIC\"\n",
    "slices = api.query_slices(start_time=query_start, end_time=query_end, component_type=component_type, fetch_all=False)\n",
    "print(f\"Total slices: {slices.get('total')}\")\n",
    "print(json.dumps(slices.get(\"data\")[0], indent=4))"
   ]
  },
  {
   "cell_type": "code",
   "execution_count": null,
   "id": "46188cd6",
   "metadata": {},
   "outputs": [],
   "source": [
    "\n",
    "print(\"Query All slices using SmartNIC and ConnectX_5 in a time range\")\n",
    "component_type=\"SmartNIC\"\n",
    "component_model=\"ConnectX-5\"\n",
    "slices = api.query_slices(start_time=query_start, end_time=query_end, component_type=component_type, component_model=component_model, fetch_all=False)\n",
    "print(f\"Total slices: {slices.get('total')}\")\n",
    "print(json.dumps(slices.get(\"data\")[0], indent=4))"
   ]
  },
  {
   "cell_type": "code",
   "execution_count": null,
   "id": "45fa5629",
   "metadata": {},
   "outputs": [],
   "source": [
    "print(\"Query All slices using SmartNIC and ConnectX_5 in a time range for a specific slice\")\n",
    "slices = api.query_slices(start_time=query_start, end_time=query_end, fetch_all=False, slice_id=\"f4bfccc3-1360-4148-90c0-b3f21b9240c2\")\n",
    "print(f\"Total Slivers: {slices.get('total')}\")\n",
    "print(json.dumps(slices.get(\"data\"), indent=4))"
   ]
  },
  {
   "cell_type": "markdown",
   "id": "0020bf10",
   "metadata": {},
   "source": [
    "## Query Slivers"
   ]
  },
  {
   "cell_type": "code",
   "execution_count": null,
   "id": "0b172a17",
   "metadata": {},
   "outputs": [],
   "source": [
    "print(\"Query All slivers\")\n",
    "slivers = api.query_slivers(fetch_all=False)\n",
    "print(f\"Total Slivers: {slivers.get('total')}\")\n",
    "print(json.dumps(slivers.get(\"data\")[0], indent=4))"
   ]
  },
  {
   "cell_type": "code",
   "execution_count": null,
   "id": "0e7fc26e",
   "metadata": {},
   "outputs": [],
   "source": [
    "print(\"Query VM slivers in a time range\")\n",
    "slivers = api.query_slivers(start_time=query_start, end_time=query_end, sliver_type=[\"VM\"], fetch_all=False)\n",
    "print(f\"Total Slivers: {slivers.get('total')}\")\n",
    "print(json.dumps(slivers.get(\"data\")[0], indent=4))"
   ]
  },
  {
   "cell_type": "code",
   "execution_count": null,
   "id": "5cd98ffa",
   "metadata": {},
   "outputs": [],
   "source": [
    "print(\"Query VM slivers in a time range excluding CERN and CIEN\")\n",
    "slivers = api.query_slivers(start_time=query_start, end_time=query_end, sliver_type=[\"VM\"], \n",
    "                            exclude_site=[\"CERN\", \"CIEN\"], fetch_all=False)\n",
    "print(f\"Total Slivers: {slivers.get('total')}\")\n",
    "print(json.dumps(slivers.get(\"data\")[0], indent=4))"
   ]
  },
  {
   "cell_type": "code",
   "execution_count": null,
   "id": "660a18aa",
   "metadata": {},
   "outputs": [],
   "source": [
    "print(\"Query All slivers using SmartNIC in a time range\")\n",
    "component_type=\"SmartNIC\"\n",
    "slivers = api.query_slivers(start_time=query_start, end_time=query_end, component_type=component_type, fetch_all=False)\n",
    "print(f\"Total Slivers: {slivers.get('total')}\")\n",
    "print(json.dumps(slivers.get(\"data\")[0], indent=4))"
   ]
  },
  {
   "cell_type": "code",
   "execution_count": null,
   "id": "32b7aebd",
   "metadata": {},
   "outputs": [],
   "source": [
    "\n",
    "print(\"Query All slivers using SmartNIC and ConnectX_5 in a time range\")\n",
    "component_type=\"SmartNIC\"\n",
    "component_model=\"ConnectX-5\"\n",
    "slivers = api.query_slivers(start_time=query_start, end_time=query_end, component_type=component_type, component_model=component_model, fetch_all=False)\n",
    "print(f\"Total Slivers: {slivers.get('total')}\")\n",
    "print(json.dumps(slivers.get(\"data\")[0], indent=4))"
   ]
  },
  {
   "cell_type": "code",
   "execution_count": null,
   "id": "da429303",
   "metadata": {},
   "outputs": [],
   "source": [
    "print(\"Query All slivers using SmartNIC and ConnectX_5 in a time range for a specific slice\")\n",
    "slivers = api.query_slivers(start_time=query_start, end_time=query_end, fetch_all=False, slice_id=\"7975644c-516d-4492-9420-a62010efac2d\")\n",
    "print(f\"Total Slivers: {slivers.get('total')}\")\n",
    "print(json.dumps(slivers.get(\"data\"), indent=4))"
   ]
  },
  {
   "cell_type": "markdown",
   "id": "83e33c51",
   "metadata": {},
   "source": [
    "# Plots\n",
    "\n",
    "## Slice per month"
   ]
  },
  {
   "cell_type": "code",
   "execution_count": null,
   "id": "c0fab3d7-a36c-4713-94fd-96784ffb967f",
   "metadata": {},
   "outputs": [],
   "source": [
    "# Step 2: Fetch all slices\n",
    "response = api.query_slices(fetch_all=True)\n",
    "slices = response[\"data\"]\n",
    "\n",
    "# Step 3: Create DataFrame and process dates\n",
    "df = pd.DataFrame(slices)\n",
    "df['lease_start'] = pd.to_datetime(df['lease_start'])\n",
    "\n",
    "# Step 4: Drop rows with null lease_start\n",
    "df = df.dropna(subset=['lease_start'])\n",
    "\n",
    "# Step 5: Group by year and month\n",
    "df['year_month'] = df['lease_start'].dt.to_period('M')\n",
    "slices_per_month = df.groupby('year_month').size()\n",
    "\n",
    "# Step 6: Plot\n",
    "plt.figure(figsize=(10, 6))\n",
    "slices_per_month.plot(kind='bar')\n",
    "plt.title('Slices per Month')\n",
    "plt.xlabel('Month')\n",
    "plt.ylabel('Number of Slices')\n",
    "plt.xticks(rotation=45)\n",
    "plt.tight_layout()\n",
    "plt.grid(axis='y')\n",
    "plt.show()"
   ]
  },
  {
   "cell_type": "markdown",
   "id": "dbd96074",
   "metadata": {},
   "source": [
    "## Active Slices per Month"
   ]
  },
  {
   "cell_type": "code",
   "execution_count": null,
   "id": "0efbacdd",
   "metadata": {},
   "outputs": [],
   "source": [
    "# Create DataFrame\n",
    "df = pd.DataFrame(slices)\n",
    "\n",
    "# Robust datetime parsing using 'mixed' format\n",
    "df['lease_start'] = pd.to_datetime(df['lease_start'], utc=True, format='mixed')\n",
    "df['lease_end'] = pd.to_datetime(df['lease_end'], utc=True, format='mixed')\n",
    "\n",
    "# Generate monthly range\n",
    "start_month = df['lease_start'].min().to_period('M').to_timestamp()\n",
    "end_month = df['lease_end'].max().to_period('M').to_timestamp()\n",
    "month_range = pd.date_range(start=start_month, end=end_month, freq='MS')\n",
    "\n",
    "# Count active slices per month\n",
    "active_counts = []\n",
    "for month_start in month_range:\n",
    "    month_start = month_start.tz_localize(\"UTC\")\n",
    "    month_end = (month_start + relativedelta(months=1)) - pd.Timedelta(seconds=1)\n",
    "    active = df[(df['lease_start'] <= month_end) & (df['lease_end'] >= month_start)]\n",
    "    active_counts.append(len(active))\n",
    "\n",
    "# Plot\n",
    "plt.figure(figsize=(12, 6))\n",
    "plt.bar(month_range.strftime('%Y-%m'), active_counts)\n",
    "plt.xticks(rotation=45)\n",
    "plt.title(\"Active Slices Per Month\")\n",
    "plt.xlabel(\"Month\")\n",
    "plt.ylabel(\"Active Slice Count\")\n",
    "plt.tight_layout()\n",
    "plt.grid(axis='y')\n",
    "plt.show()\n"
   ]
  },
  {
   "cell_type": "markdown",
   "id": "fa584333",
   "metadata": {},
   "source": [
    "## Active Slices with SmartNICs"
   ]
  },
  {
   "cell_type": "code",
   "execution_count": null,
   "id": "f5d61de1",
   "metadata": {},
   "outputs": [],
   "source": [
    "# Step 1: Fetch all slices that used SmartNICs\n",
    "response = api.query_slices(component_type=\"SmartNIC\", fetch_all=True)\n",
    "df = pd.DataFrame(response[\"data\"])\n",
    "\n",
    "# Step 2: Convert lease_start and lease_end to datetime (with UTC awareness)\n",
    "# Robust datetime parsing using 'mixed' format\n",
    "df['lease_start'] = pd.to_datetime(df['lease_start'], utc=True, format='mixed')\n",
    "df['lease_end'] = pd.to_datetime(df['lease_end'], utc=True, format='mixed')\n",
    "\n",
    "# Step 3: Define the month range for plotting\n",
    "start_month = df['lease_start'].min().to_period('M').to_timestamp()\n",
    "end_month = df['lease_end'].max().to_period('M').to_timestamp()\n",
    "month_range = pd.date_range(start=start_month, end=end_month, freq='MS')\n",
    "\n",
    "# Step 4: Count SmartNIC slices active in each month\n",
    "smartnic_counts = []\n",
    "\n",
    "for month_start in month_range:\n",
    "    month_start = month_start.tz_localize(\"UTC\")\n",
    "    month_end = (month_start + relativedelta(months=1)) - pd.Timedelta(seconds=1)\n",
    "\n",
    "    active_slices = df[\n",
    "        (df['lease_start'] <= month_end) &\n",
    "        (df['lease_end'] >= month_start)\n",
    "    ]\n",
    "    smartnic_counts.append(len(active_slices))\n",
    "\n",
    "# Step 5: Plot the results\n",
    "plt.figure(figsize=(12, 6))\n",
    "plt.bar(month_range.strftime('%Y-%m'), smartnic_counts)\n",
    "plt.xticks(rotation=45)\n",
    "plt.title(\"SmartNIC Slice Usage Per Month\")\n",
    "plt.xlabel(\"Month\")\n",
    "plt.ylabel(\"Number of Active SmartNIC Slices\")\n",
    "plt.tight_layout()\n",
    "plt.grid(axis='y')\n",
    "plt.show()\n"
   ]
  },
  {
   "cell_type": "markdown",
   "id": "62c03fc9",
   "metadata": {},
   "source": [
    "## Top 10 users for SmartNIC in a time range"
   ]
  },
  {
   "cell_type": "code",
   "execution_count": null,
   "id": "8aa6544b",
   "metadata": {},
   "outputs": [],
   "source": [
    "import pandas as pd\n",
    "from collections import defaultdict\n",
    "from dateutil import parser\n",
    "\n",
    "query_end = datetime.now(timezone.utc)\n",
    "query_end = query_end.isoformat(timespec='milliseconds')\n",
    "\n",
    "# Load slivers with SmartNICs\n",
    "slivers = api.query_slivers(end_time=query_end, component_type=\"SmartNIC\", fetch_all=True)[\"data\"]"
   ]
  },
  {
   "cell_type": "code",
   "execution_count": null,
   "id": "cc2b9994",
   "metadata": {},
   "outputs": [],
   "source": [
    "# {user_id: {\"usage\": float, \"user_email\": str, \"project_id\": str, \"project_name\": str}}\n",
    "user_usage = {}\n",
    "\n",
    "for s in slivers:\n",
    "    user_id = s.get(\"user_id\")\n",
    "    user_email = s.get(\"user_email\")\n",
    "    project_id = s.get(\"project_id\")\n",
    "    project_name = s.get(\"project_name\")\n",
    "    lease_start = s.get(\"lease_start\")\n",
    "    lease_end = s.get(\"lease_end\")\n",
    "    smartnic_count = s.get(\"components\", {}).get(\"total\", 0)\n",
    "\n",
    "    if not user_id or not lease_start or not lease_end:\n",
    "        continue\n",
    "\n",
    "    try:\n",
    "        start = pd.to_datetime(lease_start, utc=True)\n",
    "        end = pd.to_datetime(lease_end, utc=True)\n",
    "        hours = max((end - start).total_seconds() / 3600.0, 0)\n",
    "    except Exception:\n",
    "        continue\n",
    "\n",
    "    usage = smartnic_count * hours\n",
    "\n",
    "    if user_id not in user_usage:\n",
    "        user_usage[user_id] = {\n",
    "            \"smartnic_usage_hours\": 0,\n",
    "            \"user_email\": user_email,\n",
    "            \"project_id\": project_id,\n",
    "            \"project_name\": project_name\n",
    "        }\n",
    "\n",
    "    user_usage[user_id][\"smartnic_usage_hours\"] += usage\n",
    "\n",
    "# Convert to DataFrame\n",
    "usage_df = pd.DataFrame([\n",
    "    {\n",
    "        \"user_id\": uid,\n",
    "        \"user_email\": info[\"user_email\"],\n",
    "        \"project_id\": info[\"project_id\"],\n",
    "        \"project_name\": info[\"project_name\"],\n",
    "        \"smartnic_usage_hours\": info[\"smartnic_usage_hours\"]\n",
    "    }\n",
    "    for uid, info in user_usage.items()\n",
    "])\n",
    "\n",
    "# Sort and display top 10\n",
    "top_users = usage_df.sort_values(\"smartnic_usage_hours\", ascending=False).head(10)\n",
    "print(top_users)\n"
   ]
  },
  {
   "cell_type": "markdown",
   "id": "d106dbf2",
   "metadata": {},
   "source": [
    "## User to Slice and viceversa"
   ]
  },
  {
   "cell_type": "code",
   "execution_count": null,
   "id": "177dd524",
   "metadata": {},
   "outputs": [],
   "source": [
    "from collections import defaultdict\n",
    "\n",
    "slices = api.query_slivers(end_time=query_end, fetch_all=True)[\"data\"]\n",
    "\n",
    "# Dictionary mapping user_id → {user_email, set of slice names}\n",
    "user_slices = defaultdict(lambda: {\"user_email\": None, \"slices\": set()})\n",
    "\n",
    "for s in slices:\n",
    "    user_id = s.get(\"user_id\")\n",
    "    user_email = s.get(\"user_email\")\n",
    "    slice_name = s.get(\"slice_name\")\n",
    "    slice_id = s.get(\"slice_id\")\n",
    "\n",
    "    if not user_id or not slice_name:\n",
    "        continue\n",
    "\n",
    "    user_slices[user_id][\"user_email\"] = user_email\n",
    "    user_slices[user_id][\"slices\"].add(f\"{slice_name} ({slice_id})\" if slice_id else slice_name)\n",
    "\n",
    "print(len(user_slices))\n",
    "# Print mapping\n",
    "for user_id, info in user_slices.items():\n",
    "    print(f\"\\nUser: {user_id} | Email: {info['user_email']}\")\n",
    "    print(\"  Slices:\")\n",
    "    for s in sorted(info[\"slices\"]):\n",
    "        print(f\"    - {s}\")"
   ]
  }
 ],
 "metadata": {
  "kernelspec": {
   "display_name": ".venv",
   "language": "python",
   "name": "python3"
  },
  "language_info": {
   "codemirror_mode": {
    "name": "ipython",
    "version": 3
   },
   "file_extension": ".py",
   "mimetype": "text/x-python",
   "name": "python",
   "nbconvert_exporter": "python",
   "pygments_lexer": "ipython3",
   "version": "3.11.6"
  }
 },
 "nbformat": 4,
 "nbformat_minor": 5
}
