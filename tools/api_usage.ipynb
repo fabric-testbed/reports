{
 "cells": [
  {
   "cell_type": "markdown",
   "id": "3b6605cd-5fc4-4c33-a525-1bb275978188",
   "metadata": {},
   "source": [
    "https://uis.fabric-testbed.net/ui/\n",
    "\n",
    "https://uis.fabric-testbed.net/ui/#/people/people_uuid_get\n",
    "\n",
    "ssh -i ~/work/fabric_config/pruth_fabric_rsa  -L 2001:localhost:9200  -F ~/work/fabric_config/ssh_config pruth@mfelk-p.fabric-testbed.net"
   ]
  },
  {
   "cell_type": "code",
   "execution_count": null,
   "id": "45160bd4",
   "metadata": {},
   "outputs": [],
   "source": [
    "from fabric_reports_client.reports_api import ReportsApi\n",
    "from datetime import datetime, timezone\n",
    "import json\n",
    "import pandas as pd\n",
    "import matplotlib.pyplot as plt\n",
    "from dateutil.relativedelta import relativedelta\n",
    "\n",
    "api =  ReportsApi(base_url=\"https://reports.fabric-testbed.net/reports\", token_file=\"/Users/kthare10/work/id_token_prod.json\")\n",
    "\n",
    "query_start=None\n",
    "\n",
    "query_end = datetime.now(timezone.utc)\n",
    "query_end = query_end.isoformat(timespec='milliseconds')\n",
    "\n",
    "fabric_projects = ['2dd1ffb8-1aff-45cc-a70d-eb93b65cc26b', '4604cab7-41ff-4c1a-a935-0ca6f20cceeb', '6b76128d-c73f-431f-a245-0397586a7d40', '32e7160e-0318-43f5-a4e3-80209f880833', '75835e68-f91f-474d-8d54-27a576cc252f', '990d8a8b-7e50-4d13-a3be-0f133ffa8653', '04b14c17-e66a-4405-98fc-d737717e2160', '1630021f-0a0c-4792-a241-997f410d36e1', '7a5adb91-c4c0-4a1c-8021-7b6c56af196f', '06e8d02a-b27f-4437-829e-8378d20e5a08', '7f33ecf0-5dd7-4fd5-b1b7-061367f8bca6']"
   ]
  },
  {
   "cell_type": "markdown",
   "id": "20fb5c56",
   "metadata": {},
   "source": [
    "## Query Projects"
   ]
  },
  {
   "cell_type": "code",
   "execution_count": null,
   "id": "40f4cff3",
   "metadata": {},
   "outputs": [],
   "source": [
    "print(\"Query All projects\")\n",
    "projects = api.query_projects(fetch_all=False)\n",
    "print(f\"Total projects: {projects.get('total')}\")\n",
    "\n",
    "projects_df = pd.DataFrame(projects.get('data'))\n",
    "display(projects_df)"
   ]
  },
  {
   "cell_type": "code",
   "execution_count": null,
   "id": "dbd81b89",
   "metadata": {},
   "outputs": [],
   "source": [
    "print(\"Query All projects in a time range\")\n",
    "\n",
    "# NOTE: If no start time is provided, it will default to 30 days before the end time\n",
    "\n",
    "projects = api.query_projects(end_time=query_end, fetch_all=False)\n",
    "print(f\"Total projects: {projects.get('total')}\")\n",
    "projects_df = pd.DataFrame(projects.get('data'))\n",
    "display(projects_df)"
   ]
  },
  {
   "cell_type": "code",
   "execution_count": null,
   "id": "f0c4d070",
   "metadata": {},
   "outputs": [],
   "source": [
    "print(\"Query All projects using SmartNIC in a time range\")\n",
    "component_type=\"SmartNIC\"\n",
    "# NOTE: If no start time is provided, it will default to 30 days before the end time\n",
    "projects = api.query_projects(end_time=query_end, component_type=component_type, fetch_all=False)\n",
    "print(f\"Total projects: {projects.get('total')}\")\n",
    "projects_df = pd.DataFrame(projects.get('data'))\n",
    "display(projects_df)"
   ]
  },
  {
   "cell_type": "code",
   "execution_count": null,
   "id": "a6776953",
   "metadata": {},
   "outputs": [],
   "source": [
    "\n",
    "print(\"Query All projects using SmartNIC and ConnectX_5 in a time range\")\n",
    "component_type=\"SmartNIC\"\n",
    "component_model=\"ConnectX-5\"\n",
    "# NOTE: If no start time is provided, it will default to 30 days before the end time\n",
    "projects = api.query_projects(end_time=query_end, component_type=component_type, component_model=component_model, fetch_all=False)\n",
    "print(f\"Total projects: {projects.get('total')}\")\n",
    "print(json.dumps(projects.get(\"data\")[0], indent=4))"
   ]
  },
  {
   "cell_type": "code",
   "execution_count": null,
   "id": "67e4149f",
   "metadata": {},
   "outputs": [],
   "source": [
    "print(\"Query project using SmartNIC and ConnectX_5 in a time range for a specific project\")\n",
    "# NOTE: If no start time is provided, it will default to 30 days before the end time\n",
    "projects = api.query_projects(end_time=query_end, fetch_all=False, project_id=\"990d8a8b-7e50-4d13-a3be-0f133ffa8653\")\n",
    "print(f\"Total projects: {projects.get('total')}\")\n",
    "projects_df = pd.DataFrame(projects.get('data'))\n",
    "display(projects_df)"
   ]
  },
  {
   "cell_type": "markdown",
   "id": "b92bec03",
   "metadata": {},
   "source": [
    "## Query Users"
   ]
  },
  {
   "cell_type": "code",
   "execution_count": null,
   "id": "0fd309ae",
   "metadata": {},
   "outputs": [],
   "source": [
    "print(\"Query All users\")\n",
    "users = api.query_users(fetch_all=False)\n",
    "print(f\"Total users: {users.get('total')}\")\n",
    "users_df = pd.DataFrame(users.get('data'))\n",
    "display(users_df)"
   ]
  },
  {
   "cell_type": "code",
   "execution_count": null,
   "id": "38afb1b1",
   "metadata": {},
   "outputs": [],
   "source": [
    "print(\"Query All users in a time range\")\n",
    "# NOTE: If no start time is provided, it will default to 30 days before the end time\n",
    "users = api.query_users(end_time=query_end, fetch_all=False)\n",
    "print(f\"Total users: {users.get('total')}\")\n",
    "users_df = pd.DataFrame(users.get('data'))\n",
    "display(users_df)"
   ]
  },
  {
   "cell_type": "code",
   "execution_count": null,
   "id": "90badb8f",
   "metadata": {},
   "outputs": [],
   "source": [
    "print(\"Query All users using SmartNIC in a time range\")\n",
    "component_type=\"SmartNIC\"\n",
    "# NOTE: If no start time is provided, it will default to 30 days before the end time\n",
    "users = api.query_users(end_time=query_end, component_type=component_type, fetch_all=False, exclude_project_id=fabric_projects)\n",
    "print(f\"Total users: {users.get('total')}\")\n",
    "users_df = pd.DataFrame(users.get('data'))\n",
    "display(users_df)"
   ]
  },
  {
   "cell_type": "code",
   "execution_count": null,
   "id": "5a6e6a71",
   "metadata": {},
   "outputs": [],
   "source": [
    "\n",
    "print(\"Query All users using SmartNIC and ConnectX_5 in a time range\")\n",
    "component_type=\"SmartNIC\"\n",
    "component_model=\"ConnectX-5\"\n",
    "# NOTE: If no start time is provided, it will default to 30 days before the end time\n",
    "users = api.query_users(end_time=query_end, component_type=component_type, component_model=component_model, fetch_all=False, exclude_project_id=fabric_projects)\n",
    "print(f\"Total users: {users.get('total')}\")\n",
    "users_df = pd.DataFrame(users.get('data'))\n",
    "display(users_df)"
   ]
  },
  {
   "cell_type": "code",
   "execution_count": null,
   "id": "c546511a",
   "metadata": {},
   "outputs": [],
   "source": [
    "print(\"Query All users using SmartNIC and ConnectX_5 in a time range for a specific project\")\n",
    "# NOTE: If no start time is provided, it will default to 30 days before the end time\n",
    "users = api.query_users(end_time=query_end, fetch_all=False, project_id=\"990d8a8b-7e50-4d13-a3be-0f133ffa8653\")\n",
    "print(f\"Total users: {users.get('total')}\")\n",
    "users_df = pd.DataFrame(users.get('data'))\n",
    "display(users_df)"
   ]
  },
  {
   "cell_type": "markdown",
   "id": "09bca2a2",
   "metadata": {},
   "source": [
    "## Query Slices"
   ]
  },
  {
   "cell_type": "code",
   "execution_count": null,
   "id": "9d413b0a",
   "metadata": {},
   "outputs": [],
   "source": [
    "print(\"Query All slices\")\n",
    "slices = api.query_slices(fetch_all=False, exclude_project_id=fabric_projects)\n",
    "print(f\"Total slices: {slices.get('total')}\")\n",
    "slices_df = pd.DataFrame(slices.get('data'))\n",
    "display(slices_df)"
   ]
  },
  {
   "cell_type": "code",
   "execution_count": null,
   "id": "538d9943",
   "metadata": {},
   "outputs": [],
   "source": [
    "print(\"Query All slices in a time range\")\n",
    "# NOTE: If no start time is provided, it will default to 30 days before the end time\n",
    "slices = api.query_slices(end_time=query_end, fetch_all=False, exclude_project_id=fabric_projects)\n",
    "print(f\"Total slices: {slices.get('total')}\")\n",
    "slices_df = pd.DataFrame(slices.get('data'))\n",
    "display(slices_df)"
   ]
  },
  {
   "cell_type": "code",
   "execution_count": null,
   "id": "43e353a0",
   "metadata": {},
   "outputs": [],
   "source": [
    "print(\"Query All slices using SmartNIC in a time range\")\n",
    "component_type=\"SmartNIC\"\n",
    "# NOTE: If no start time is provided, it will default to 30 days before the end time\n",
    "slices = api.query_slices(end_time=query_end, component_type=component_type, fetch_all=False, exclude_project_id=fabric_projects)\n",
    "print(f\"Total slices: {slices.get('total')}\")\n",
    "slices_df = pd.DataFrame(slices.get('data'))\n",
    "display(slices_df)"
   ]
  },
  {
   "cell_type": "code",
   "execution_count": null,
   "id": "46188cd6",
   "metadata": {},
   "outputs": [],
   "source": [
    "\n",
    "print(\"Query All slices using SmartNIC and ConnectX_5 in a time range\")\n",
    "component_type=\"SmartNIC\"\n",
    "component_model=\"ConnectX-5\"\n",
    "# NOTE: If no start time is provided, it will default to 30 days before the end time\n",
    "slices = api.query_slices(end_time=query_end, component_type=component_type, component_model=component_model, fetch_all=False, exclude_project_id=fabric_projects)\n",
    "print(f\"Total slices: {slices.get('total')}\")\n",
    "slices_df = pd.DataFrame(slices.get('data'))\n",
    "display(slices_df)"
   ]
  },
  {
   "cell_type": "code",
   "execution_count": null,
   "id": "45fa5629",
   "metadata": {},
   "outputs": [],
   "source": [
    "print(\"Query All slices using SmartNIC and ConnectX_5 in a time range for a specific slice\")\n",
    "# NOTE: If no start time is provided, it will default to 30 days before the end time\n",
    "slices = api.query_slices(end_time=query_end, fetch_all=False, slice_id=\"f4bfccc3-1360-4148-90c0-b3f21b9240c2\", exclude_project_id=fabric_projects)\n",
    "print(f\"Total Slivers: {slices.get('total')}\")\n",
    "slices_df = pd.DataFrame(slices.get('data'))\n",
    "display(slices_df)"
   ]
  },
  {
   "cell_type": "markdown",
   "id": "0020bf10",
   "metadata": {},
   "source": [
    "## Query Slivers"
   ]
  },
  {
   "cell_type": "code",
   "execution_count": null,
   "id": "0b172a17",
   "metadata": {},
   "outputs": [],
   "source": [
    "print(\"Query All slivers\")\n",
    "slivers = api.query_slivers(fetch_all=False, exclude_project_id=fabric_projects)\n",
    "print(f\"Total Slivers: {slivers.get('total')}\")\n",
    "slivers_df = pd.DataFrame(slivers.get('data'))\n",
    "display(slivers_df)"
   ]
  },
  {
   "cell_type": "code",
   "execution_count": null,
   "id": "0e7fc26e",
   "metadata": {},
   "outputs": [],
   "source": [
    "print(\"Query VM slivers in a time range\")\n",
    "# NOTE: If no start time is provided, it will default to 30 days before the end time\n",
    "slivers = api.query_slivers(end_time=query_end, sliver_type=[\"VM\"], fetch_all=False, exclude_project_id=fabric_projects)\n",
    "print(f\"Total Slivers: {slivers.get('total')}\")\n",
    "slivers_df = pd.DataFrame(slivers.get('data'))\n",
    "display(slivers_df)"
   ]
  },
  {
   "cell_type": "code",
   "execution_count": null,
   "id": "5cd98ffa",
   "metadata": {},
   "outputs": [],
   "source": [
    "print(\"Query VM slivers in a time range excluding CERN and CIEN\")\n",
    "# NOTE: If no start time is provided, it will default to 30 days before the end time\n",
    "slivers = api.query_slivers(end_time=query_end, sliver_type=[\"VM\"],\n",
    "                            exclude_site=[\"CERN\", \"CIEN\"], fetch_all=False, exclude_project_id=fabric_projects)\n",
    "print(f\"Total Slivers: {slivers.get('total')}\")\n",
    "slivers_df = pd.DataFrame(slivers.get('data'))\n",
    "display(slivers_df)"
   ]
  },
  {
   "cell_type": "code",
   "execution_count": null,
   "id": "660a18aa",
   "metadata": {},
   "outputs": [],
   "source": [
    "print(\"Query All slivers using SmartNIC in a time range\")\n",
    "component_type=\"SmartNIC\"\n",
    "# NOTE: If no start time is provided, it will default to 30 days before the end time\n",
    "slivers = api.query_slivers(end_time=query_end, component_type=component_type, fetch_all=False)\n",
    "print(f\"Total Slivers: {slivers.get('total')}\")\n",
    "slivers_df = pd.DataFrame(slivers.get('data'))\n",
    "display(slivers_df)"
   ]
  },
  {
   "cell_type": "code",
   "execution_count": null,
   "id": "32b7aebd",
   "metadata": {},
   "outputs": [],
   "source": [
    "\n",
    "print(\"Query All slivers using SmartNIC and ConnectX_5 in a time range\")\n",
    "component_type=\"SmartNIC\"\n",
    "component_model=\"ConnectX-5\"\n",
    "# NOTE: If no start time is provided, it will default to 30 days before the end time\n",
    "slivers = api.query_slivers(end_time=query_end, component_type=component_type, component_model=component_model, fetch_all=False, exclude_project_id=fabric_projects)\n",
    "print(f\"Total Slivers: {slivers.get('total')}\")\n",
    "slivers_df = pd.DataFrame(slivers.get('data'))\n",
    "display(slivers_df)"
   ]
  },
  {
   "cell_type": "code",
   "execution_count": null,
   "id": "da429303",
   "metadata": {},
   "outputs": [],
   "source": [
    "print(\"Query All slivers using SmartNIC and ConnectX_5 in a time range for a specific slice\")\n",
    "# NOTE: If no start time is provided, it will default to 30 days before the end time\n",
    "slivers = api.query_slivers(end_time=query_end, fetch_all=False, slice_id=\"7975644c-516d-4492-9420-a62010efac2d\")\n",
    "print(f\"Total Slivers: {slivers.get('total')}\")\n",
    "slivers_df = pd.DataFrame(slivers.get('data'))\n",
    "display(slivers_df)"
   ]
  }
 ],
 "metadata": {
  "kernelspec": {
   "display_name": ".venv",
   "language": "python",
   "name": "python3"
  },
  "language_info": {
   "codemirror_mode": {
    "name": "ipython",
    "version": 3
   },
   "file_extension": ".py",
   "mimetype": "text/x-python",
   "name": "python",
   "nbconvert_exporter": "python",
   "pygments_lexer": "ipython3",
   "version": "3.11.6"
  }
 },
 "nbformat": 4,
 "nbformat_minor": 5
}
